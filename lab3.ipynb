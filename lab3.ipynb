{
  "nbformat": 4,
  "nbformat_minor": 0,
  "metadata": {
    "colab": {
      "provenance": []
    },
    "kernelspec": {
      "name": "python3",
      "display_name": "Python 3"
    },
    "language_info": {
      "name": "python"
    }
  },
  "cells": [
    {
      "cell_type": "code",
      "execution_count": null,
      "metadata": {
        "colab": {
          "base_uri": "https://localhost:8080/"
        },
        "id": "axY5rWAW1QQ1",
        "outputId": "e7cc3440-aaad-4732-812e-5e7a766fad99"
      },
      "outputs": [
        {
          "output_type": "stream",
          "name": "stdout",
          "text": [
            "arr1+arr2\n",
            "[[13 14 35]\n",
            " [48 20 69]\n",
            " [24 26 28]]\n",
            "arr1-arr2\n",
            "[[-11 -10 -29]\n",
            " [-40 -10 -57]\n",
            " [-10 -10 -10]]\n",
            "add\n",
            "[[13 14 35]\n",
            " [48 20 69]\n",
            " [24 26 28]]\n",
            "sub\n",
            "[[-11 -10 -29]\n",
            " [-40 -10 -57]\n",
            " [-10 -10 -10]]\n"
          ]
        }
      ],
      "source": [
        "import numpy as np\n",
        "arr1=np.array([[1,2,3],[4,5,6],[7,8,9]])\n",
        "arr2=np.array([[12,12,32],[44,15,63],[17,18,19]])\n",
        "print(\"arr1+arr2\")\n",
        "print(arr1+arr2)\n",
        "print(\"arr1-arr2\")\n",
        "print(arr1-arr2)\n",
        "add=np.add(arr1,arr2)\n",
        "print(\"add\")\n",
        "print(add)\n",
        "sub=np.subtract(arr1,arr2)\n",
        "print(\"sub\")\n",
        "print(sub)"
      ]
    },
    {
      "cell_type": "code",
      "source": [
        "import numpy as np\n",
        "\n",
        "arr3 = np.array([[1, 2], [3, 4], [5, 6]])\n",
        "arr4 = np.array([[7, 8, 9], [10, 11, 12]])\n",
        "dot = np.dot(arr3, arr4)\n",
        "ans = arr3 @ arr4\n",
        "print(\"Matrix A\")\n",
        "print(arr3)\n",
        "print(\"Matrix B\")\n",
        "print(arr4)\n",
        "print(\"dot\")\n",
        "print(dot)\n",
        "print(\"ans\")\n",
        "print(ans)\n"
      ],
      "metadata": {
        "colab": {
          "base_uri": "https://localhost:8080/"
        },
        "id": "NAFFMsZP4sqk",
        "outputId": "f04cfdeb-7974-4f4f-dacb-65fece9db35d"
      },
      "execution_count": null,
      "outputs": [
        {
          "output_type": "stream",
          "name": "stdout",
          "text": [
            "Matrix A\n",
            "[[1 2]\n",
            " [3 4]\n",
            " [5 6]]\n",
            "Matrix B\n",
            "[[ 7  8  9]\n",
            " [10 11 12]]\n",
            "dot\n",
            "[[ 27  30  33]\n",
            " [ 61  68  75]\n",
            " [ 95 106 117]]\n",
            "ans\n",
            "[[ 27  30  33]\n",
            " [ 61  68  75]\n",
            " [ 95 106 117]]\n"
          ]
        }
      ]
    },
    {
      "cell_type": "code",
      "source": [],
      "metadata": {
        "id": "Z8LaEI2y6uKi"
      },
      "execution_count": null,
      "outputs": []
    },
    {
      "cell_type": "markdown",
      "source": [
        "## creating file"
      ],
      "metadata": {
        "id": "arQ-PEl5uhzE"
      }
    },
    {
      "cell_type": "code",
      "execution_count": null,
      "metadata": {
        "colab": {
          "base_uri": "https://localhost:8080/"
        },
        "id": "NXdhWOoysze-",
        "outputId": "ec690910-cc68-4458-9448-4a1175a3f2dc"
      },
      "outputs": [
        {
          "output_type": "stream",
          "name": "stdout",
          "text": [
            "done\n"
          ]
        }
      ],
      "source": [
        "file=open(\"example.txt\",\"w\")\n",
        "file.write(\"Hello ,Btech students!\\n\")\n",
        "file.write(\"This is file handaling in python,\\n\")\n",
        "file.write(\"SR University \")\n",
        "file.close()\n",
        "print(\"done\")"
      ]
    },
    {
      "cell_type": "markdown",
      "source": [
        "##\"Reading file\""
      ],
      "metadata": {
        "id": "BLGfgyh6vNcT"
      }
    },
    {
      "cell_type": "code",
      "source": [
        "file=open(\"example.txt\",\"r\")\n",
        "print(file.read())\n",
        "file.close()"
      ],
      "metadata": {
        "colab": {
          "base_uri": "https://localhost:8080/"
        },
        "id": "3EClKLSWuFf4",
        "outputId": "1160a3cd-6638-49a7-942a-195a54511905"
      },
      "execution_count": null,
      "outputs": [
        {
          "output_type": "stream",
          "name": "stdout",
          "text": [
            "Hello ,Btech students!\n",
            "This is file handaling in python,\n",
            "SR University \n"
          ]
        }
      ]
    },
    {
      "cell_type": "markdown",
      "source": [
        "##Read line by line"
      ],
      "metadata": {
        "id": "3IKzqPQowEzx"
      }
    },
    {
      "cell_type": "code",
      "source": [
        "file=open(\"example.txt\",\"r\")\n",
        "line1=file.readline()\n",
        "print(line1)\n",
        "line2=file.readline()\n",
        "print(line2)\n",
        "line3=file.readline()\n",
        "print(line3)\n",
        "file.close()\n"
      ],
      "metadata": {
        "colab": {
          "base_uri": "https://localhost:8080/"
        },
        "id": "DgQuLQlGvXXX",
        "outputId": "d8f0e78c-3705-4495-9e35-0f6f37f4182c"
      },
      "execution_count": null,
      "outputs": [
        {
          "output_type": "stream",
          "name": "stdout",
          "text": [
            "Hello ,Btech students!\n",
            "\n",
            "This is file handaling in python,\n",
            "\n",
            "SR University \n"
          ]
        }
      ]
    },
    {
      "cell_type": "code",
      "source": [
        "file = open(\"example.txt\",\"r\")\n",
        "lines = file.readlines()\n",
        "print(\"all\", lines)\n",
        "file.close()\n"
      ],
      "metadata": {
        "colab": {
          "base_uri": "https://localhost:8080/"
        },
        "id": "_nsE4TmrwWbz",
        "outputId": "1eea1e31-c138-461d-e57c-f533bdd2a616"
      },
      "execution_count": null,
      "outputs": [
        {
          "output_type": "stream",
          "name": "stdout",
          "text": [
            "all ['Hello ,Btech students!\\n', 'This is file handaling in python,\\n', 'SR University appending new data\\n']\n"
          ]
        }
      ]
    },
    {
      "cell_type": "code",
      "source": [
        "file = open(\"example.txt\",\"a\")\n",
        "file.write(\"appending new data\\n\")\n",
        "file.close()"
      ],
      "metadata": {
        "id": "A1ojts9zxe6F"
      },
      "execution_count": null,
      "outputs": []
    },
    {
      "cell_type": "code",
      "source": [
        "with open(\"example.txt\",\"r\") as file:\n",
        "  data=file.read()\n",
        "  print(data)\n"
      ],
      "metadata": {
        "colab": {
          "base_uri": "https://localhost:8080/"
        },
        "id": "m83t9FEqx8Wr",
        "outputId": "c8053fe6-1586-4628-e2dc-a3ba5e3a79f2"
      },
      "execution_count": null,
      "outputs": [
        {
          "output_type": "stream",
          "name": "stdout",
          "text": [
            "Hello ,Btech students!\n",
            "This is file handaling in python,\n",
            "SR University appending new data\n",
            "appending new data\n",
            "\n"
          ]
        }
      ]
    },
    {
      "cell_type": "markdown",
      "source": [
        "##create and write csv"
      ],
      "metadata": {
        "id": "ZyGzryCRz3GB"
      }
    },
    {
      "cell_type": "code",
      "source": [
        "import csv\n",
        "with open(\"data.csv\",\"w\",newline=\"\") as file:\n",
        "  writer=csv.writer(file)\n",
        "  wr=csv.writer(file)\n",
        "  wr.writerow([\"Name\",\"age\",\"course\"])\n",
        "  wr.writerow([\"a\",18,\"cse\"])\n",
        "  wr.writerow([\"a\",22,\"cse\"])\n",
        "  wr.writerow([\"a\",31,\"cse\"])"
      ],
      "metadata": {
        "id": "0D2zdyS6yg1E"
      },
      "execution_count": null,
      "outputs": []
    },
    {
      "cell_type": "markdown",
      "source": [
        "##read csv"
      ],
      "metadata": {
        "id": "LG-XQ5yvz1Xg"
      }
    },
    {
      "cell_type": "code",
      "source": [
        "with open(\"data.csv\",\"r\") as file:\n",
        "  read=csv.reader(file)\n",
        "  for row in read:\n",
        "    print(row)"
      ],
      "metadata": {
        "colab": {
          "base_uri": "https://localhost:8080/"
        },
        "id": "CX5he0LBzj8x",
        "outputId": "eaa6b746-b50d-4c25-98cf-7f40682f30c7"
      },
      "execution_count": null,
      "outputs": [
        {
          "output_type": "stream",
          "name": "stdout",
          "text": [
            "['Name', 'age', 'course']\n",
            "['a', '18', 'cse']\n",
            "['a', '22', 'cse']\n",
            "['a', '31', 'cse']\n"
          ]
        }
      ]
    }
  ]
}