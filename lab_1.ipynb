{
  "nbformat": 4,
  "nbformat_minor": 0,
  "metadata": {
    "colab": {
      "provenance": [],
      "authorship_tag": "ABX9TyOni5SBo2EQpKv5qBYvKoQh",
      "include_colab_link": true
    },
    "kernelspec": {
      "name": "python3",
      "display_name": "Python 3"
    },
    "language_info": {
      "name": "python"
    }
  },
  "cells": [
    {
      "cell_type": "markdown",
      "metadata": {
        "id": "view-in-github",
        "colab_type": "text"
      },
      "source": [
        "<a href=\"https://colab.research.google.com/github/TejasKumarBoddu1/B8_PFDS_1489/blob/main/lab_1.ipynb\" target=\"_parent\"><img src=\"https://colab.research.google.com/assets/colab-badge.svg\" alt=\"Open In Colab\"/></a>"
      ]
    },
    {
      "cell_type": "code",
      "metadata": {
        "id": "51b1c0ab"
      },
      "source": [
        "def recursive_factorial(n):\n",
        "  \"\"\"Calculates the factorial of a non-negative integer using recursion.\"\"\"\n",
        "  if n == 0:\n",
        "    return 1\n",
        "  else:\n",
        "    return n * recursive_factorial(n-1)"
      ],
      "execution_count": null,
      "outputs": []
    },
    {
      "cell_type": "code",
      "metadata": {
        "colab": {
          "base_uri": "https://localhost:8080/"
        },
        "id": "d88c5d3e",
        "outputId": "a69aa521-6c73-4460-90d8-7ce67056c17c"
      },
      "source": [
        "n = int(input(\"Enter the total number of people (n): \"))\n",
        "r = int(input(\"Enter the number of places (r): \"))"
      ],
      "execution_count": null,
      "outputs": [
        {
          "name": "stdout",
          "output_type": "stream",
          "text": [
            "Enter the total number of people (n): 5\n",
            "Enter the number of places (r): 5\n"
          ]
        }
      ]
    },
    {
      "cell_type": "code",
      "metadata": {
        "colab": {
          "base_uri": "https://localhost:8080/"
        },
        "id": "a5e61f92",
        "outputId": "e9495890-792b-465b-c6cb-f51478192af9"
      },
      "source": [
        "if n < r:\n",
        "    print(\"Error: The number of people (n) must be greater than or equal to the number of places (r).\")\n",
        "else:\n",
        "    # Step 1: Calculate n!\n",
        "    print(f\"Step 1: Calculate n! ({n}!)\")\n",
        "    n_factorial = recursive_factorial(n)\n",
        "    print(f\"{n}! = {n_factorial}\")\n",
        "\n",
        "    # Step 2: Calculate (n - r)!\n",
        "    n_minus_r = n - r\n",
        "    print(f\"\\nStep 2: Calculate (n - r)! ({n} - {r})! = {n_minus_r}!\")\n",
        "    n_minus_r_factorial = recursive_factorial(n_minus_r)\n",
        "    print(f\"{n_minus_r}! = {n_minus_r_factorial}\")\n",
        "\n",
        "    # Step 3: Calculate nPr\n",
        "    print(f\"\\nStep 3: Calculate nPr using the formula nPr = n! / (n - r)!\")\n",
        "    npr_result = n_factorial // n_minus_r_factorial  # Use integer division\n",
        "    print(f\"{n}P{r} = {n_factorial} / {n_minus_r_factorial} = {npr_result}\")"
      ],
      "execution_count": null,
      "outputs": [
        {
          "output_type": "stream",
          "name": "stdout",
          "text": [
            "Step 1: Calculate n! (5!)\n",
            "5! = 120\n",
            "\n",
            "Step 2: Calculate (n - r)! (5 - 5)! = 0!\n",
            "0! = 1\n",
            "\n",
            "Step 3: Calculate nPr using the formula nPr = n! / (n - r)!\n",
            "5P5 = 120 / 1 = 120\n"
          ]
        }
      ]
    },
    {
      "cell_type": "markdown",
      "source": [
        "##2\n"
      ],
      "metadata": {
        "id": "oxVS2j9dF_4C"
      }
    },
    {
      "cell_type": "code",
      "source": [
        "def fact(n, depth=0):\n",
        "    space = \"  \" * depth\n",
        "    if n == 0 or n == 1:\n",
        "        return 1\n",
        "    else:\n",
        "        res = n * fact(n - 1, depth + 1)\n",
        "        return res\n",
        "\n",
        "num = int(input(\"Enter a number (≤ 10): \"))\n",
        "if 0 <= num <= 10:\n",
        "    result = fact(num)\n",
        "    print(f\"\\nResult: {result}\")\n",
        "else:\n",
        "    print(\"Invalid input. Please enter a number between 0 and 10.\")\n"
      ],
      "metadata": {
        "colab": {
          "base_uri": "https://localhost:8080/"
        },
        "id": "54WSBMBHHjbk",
        "outputId": "fdc537d8-4a57-480b-b674-eb1d0e8b9c2d"
      },
      "execution_count": null,
      "outputs": [
        {
          "output_type": "stream",
          "name": "stdout",
          "text": [
            "Enter a number (≤ 10): 5\n",
            "\n",
            "Result: 120\n"
          ]
        }
      ]
    },
    {
      "cell_type": "code",
      "source": [
        "import numpy as np\n",
        "\n",
        "marks = np.array([\n",
        "    [85, 78, 92],\n",
        "    [67, 88, 75],\n",
        "    [90, 94, 89],\n",
        "    [76, 64, 70],\n",
        "    [82, 79, 85]\n",
        "])\n",
        "\n",
        "avg_per_student = np.mean(marks, axis=1)\n",
        "min_per_student = np.min(marks, axis=1)\n",
        "max_per_student = np.max(marks, axis=1)\n",
        "\n",
        "print(\"Marks Array:\\n\", marks)\n",
        "print(\"\\nAverage Marks per Student:\", avg_per_student)\n",
        "print(\"Minimum Marks per Student:\", min_per_student)\n",
        "print(\"Maximum Marks per Student:\", max_per_student)\n",
        "\n",
        "print(\"\\nMarks of 2nd and 4th student:\\n\", marks[[1, 3]])\n",
        "\n",
        "high_scorers = np.any(marks > 80, axis=1)\n",
        "print(\"\\nStudents scoring above 80 in any subject:\\n\", marks[high_scorers])\n",
        "\n",
        "reshaped = marks.T\n",
        "print(\"\\nReshaped Array (Subject-wise):\\n\", reshaped)"
      ],
      "metadata": {
        "id": "_5_F82mOH8V2"
      },
      "execution_count": null,
      "outputs": []
    },
    {
      "cell_type": "code",
      "source": [
        "import numpy as np\n",
        "\n",
        "marks = np.array([\n",
        "    [85, 78, 92],\n",
        "    [67, 88, 75],\n",
        "    [90, 94, 89],\n",
        "    [76, 64, 70],\n",
        "    [82, 79, 85]\n",
        "])\n",
        "\n",
        "avg_per_student = np.mean(marks, axis=1)\n",
        "min_per_student = np.min(marks, axis=1)\n",
        "max_per_student = np.max(marks, axis=1)\n",
        "\n",
        "print(\"Marks Array:\\n\", marks)\n",
        "print(\"\\nAverage Marks per Student:\", avg_per_student)\n",
        "print(\"Minimum Marks per Student:\", min_per_student)\n",
        "print(\"Maximum Marks per Student:\", max_per_student)\n",
        "\n",
        "print(\"\\nMarks of 2nd and 4th student:\\n\", marks[[1, 3]])\n",
        "\n",
        "high_scorers = np.any(marks > 80, axis=1)\n",
        "print(\"\\nStudents scoring above 80 in any subject:\\n\", marks[high_scorers])\n",
        "\n",
        "reshaped = marks.T\n",
        "print(\"\\nReshaped Array (Subject-wise):\\n\", reshaped)"
      ],
      "metadata": {
        "colab": {
          "base_uri": "https://localhost:8080/"
        },
        "id": "PM6I31BnHvQS",
        "outputId": "325bdcf0-f669-4ada-df8e-8bb98ecee438"
      },
      "execution_count": null,
      "outputs": [
        {
          "output_type": "stream",
          "name": "stdout",
          "text": [
            "Marks Array:\n",
            " [[85 78 92]\n",
            " [67 88 75]\n",
            " [90 94 89]\n",
            " [76 64 70]\n",
            " [82 79 85]]\n",
            "\n",
            "Average Marks per Student: [85.         76.66666667 91.         70.         82.        ]\n",
            "Minimum Marks per Student: [78 67 89 64 79]\n",
            "Maximum Marks per Student: [92 88 94 76 85]\n",
            "\n",
            "Marks of 2nd and 4th student:\n",
            " [[67 88 75]\n",
            " [76 64 70]]\n",
            "\n",
            "Students scoring above 80 in any subject:\n",
            " [[85 78 92]\n",
            " [67 88 75]\n",
            " [90 94 89]\n",
            " [82 79 85]]\n",
            "\n",
            "Reshaped Array (Subject-wise):\n",
            " [[85 67 90 76 82]\n",
            " [78 88 94 64 79]\n",
            " [92 75 89 70 85]]\n"
          ]
        }
      ]
    }
  ]
}